{
  "nbformat": 4,
  "nbformat_minor": 0,
  "metadata": {
    "colab": {
      "name": "CNN_image_classification2.ipynb",
      "provenance": [],
      "collapsed_sections": []
    },
    "kernelspec": {
      "name": "python3",
      "display_name": "Python 3"
    },
    "language_info": {
      "name": "python"
    },
    "accelerator": "GPU"
  },
  "cells": [
    {
      "cell_type": "code",
      "metadata": {
        "id": "mPRWxwwdQS5j"
      },
      "source": [
        "\n",
        "import tensorflow as tf\n",
        "from tensorflow.keras import datasets, layers, models\n",
        "import matplotlib.pyplot as plt\n",
        "import numpy as np\n"
      ],
      "execution_count": 1,
      "outputs": []
    },
    {
      "cell_type": "markdown",
      "metadata": {
        "id": "SParhmzrRT4C"
      },
      "source": [
        ""
      ]
    },
    {
      "cell_type": "code",
      "metadata": {
        "colab": {
          "base_uri": "https://localhost:8080/"
        },
        "id": "4k3WeWlaQgsL",
        "outputId": "be25fc56-fb0a-4cfe-d6b2-5b7775200cff"
      },
      "source": [
        "(X_train, y_train), (X_test,y_test) = datasets.cifar10.load_data()\n",
        "X_train.shape"
      ],
      "execution_count": 2,
      "outputs": [
        {
          "output_type": "stream",
          "text": [
            "Downloading data from https://www.cs.toronto.edu/~kriz/cifar-10-python.tar.gz\n",
            "170500096/170498071 [==============================] - 12s 0us/step\n"
          ],
          "name": "stdout"
        },
        {
          "output_type": "execute_result",
          "data": {
            "text/plain": [
              "(50000, 32, 32, 3)"
            ]
          },
          "metadata": {
            "tags": []
          },
          "execution_count": 2
        }
      ]
    },
    {
      "cell_type": "code",
      "metadata": {
        "colab": {
          "base_uri": "https://localhost:8080/"
        },
        "id": "hqnv_VElRWLd",
        "outputId": "6347e15a-c36d-4199-e5c2-f437cee5d1a3"
      },
      "source": [
        "y_train[:5]"
      ],
      "execution_count": 3,
      "outputs": [
        {
          "output_type": "execute_result",
          "data": {
            "text/plain": [
              "array([[6],\n",
              "       [9],\n",
              "       [9],\n",
              "       [4],\n",
              "       [1]], dtype=uint8)"
            ]
          },
          "metadata": {
            "tags": []
          },
          "execution_count": 3
        }
      ]
    },
    {
      "cell_type": "markdown",
      "metadata": {
        "id": "y0zrHD9pSI_S"
      },
      "source": [
        "\n",
        "y_train is a 2D array, for our classification having 1D array is good enough. so we will convert this to now 1D array"
      ]
    },
    {
      "cell_type": "code",
      "metadata": {
        "colab": {
          "base_uri": "https://localhost:8080/"
        },
        "id": "fCmGAN0zRYT4",
        "outputId": "3b0ef9d9-40d8-4615-e63e-23c4f2e68e92"
      },
      "source": [
        "y_train = y_train.reshape(-1,)\n",
        "y_train[:5]"
      ],
      "execution_count": 4,
      "outputs": [
        {
          "output_type": "execute_result",
          "data": {
            "text/plain": [
              "array([6, 9, 9, 4, 1], dtype=uint8)"
            ]
          },
          "metadata": {
            "tags": []
          },
          "execution_count": 4
        }
      ]
    },
    {
      "cell_type": "code",
      "metadata": {
        "id": "vLubA_SwSHYc"
      },
      "source": [
        "y_test = y_test.reshape(-1,)"
      ],
      "execution_count": 5,
      "outputs": []
    },
    {
      "cell_type": "code",
      "metadata": {
        "id": "rf6e7z37S3x0"
      },
      "source": [
        "classes = [\"airplane\",\"automobile\",\"bird\",\"cat\",\"deer\",\"dog\",\"frog\",\"horse\",\"ship\",\"truck\"]\n"
      ],
      "execution_count": 6,
      "outputs": []
    },
    {
      "cell_type": "code",
      "metadata": {
        "id": "rDjJnLLES48C"
      },
      "source": [
        "def plot_sample(X, y, index):\n",
        "    plt.figure(figsize = (15,2))\n",
        "    plt.imshow(X[index])\n",
        "    plt.xlabel(classes[y[index]])"
      ],
      "execution_count": 7,
      "outputs": []
    },
    {
      "cell_type": "code",
      "metadata": {
        "colab": {
          "base_uri": "https://localhost:8080/",
          "height": 173
        },
        "id": "ENirubiDS-gq",
        "outputId": "04813536-a669-431d-a4ac-4a2ce6ba04cb"
      },
      "source": [
        "plot_sample(X_train, y_train, 0)"
      ],
      "execution_count": 8,
      "outputs": [
        {
          "output_type": "display_data",
          "data": {
            "image/png": "[encoded data removed]",
            "text/plain": [
              "<Figure size 1080x144 with 1 Axes>"
            ]
          },
          "metadata": {
            "tags": [],
            "needs_background": "light"
          }
        }
      ]
    },
    {
      "cell_type": "markdown",
      "metadata": {
        "id": "4TDginEcTHEC"
      },
      "source": [
        "Normalize the images to a number from 0 to 1. Image has 3 channels (R,G,B) and each value in the channel can range from 0 to 255. Hence to normalize in 0-->1 range, we need to divide it by 255"
      ]
    },
    {
      "cell_type": "code",
      "metadata": {
        "id": "1s4kmA5xTH19"
      },
      "source": [
        "X_train = X_train / 255.0\n",
        "X_test = X_test / 255.0"
      ],
      "execution_count": 9,
      "outputs": []
    },
    {
      "cell_type": "markdown",
      "metadata": {
        "id": "nYYilC0CTO-K"
      },
      "source": [
        "Now let us build a convolutional neural network to train our images"
      ]
    },
    {
      "cell_type": "code",
      "metadata": {
        "id": "U68K8oiITLFm"
      },
      "source": [
        "cnn = models.Sequential([\n",
        "    layers.Conv2D(filters=32, kernel_size=(3, 3), activation='relu', input_shape=(32, 32, 3)),\n",
        "    layers.MaxPooling2D((2, 2)),\n",
        "    \n",
        "    layers.Conv2D(filters=64, kernel_size=(3, 3), activation='relu'),\n",
        "    layers.MaxPooling2D((2, 2)),\n",
        "    \n",
        "    layers.Flatten(),\n",
        "    layers.Dense(64, activation='relu'),\n",
        "    layers.Dense(10, activation='softmax')\n",
        "])"
      ],
      "execution_count": 10,
      "outputs": []
    },
    {
      "cell_type": "code",
      "metadata": {
        "id": "Q4ZPkH6fTOIC"
      },
      "source": [
        "cnn.compile(optimizer='adam',\n",
        "              loss='sparse_categorical_crossentropy',\n",
        "              metrics=['accuracy'])"
      ],
      "execution_count": 12,
      "outputs": []
    },
    {
      "cell_type": "code",
      "metadata": {
        "colab": {
          "base_uri": "https://localhost:8080/"
        },
        "id": "LIcA5BVETXk5",
        "outputId": "2725d5ed-9d22-4ea3-c5ec-16c66dbd75f2"
      },
      "source": [
        "cnn.fit(X_train, y_train, epochs=100)"
      ],
      "execution_count": 13,
      "outputs": [
        {
          "output_type": "stream",
          "text": [
            "Epoch 1/100\n",
            "1563/1563 [==============================] - 37s 6ms/step - loss: 1.4763 - accuracy: 0.4681\n",
            "Epoch 2/100\n",
            "1563/1563 [==============================] - 9s 5ms/step - loss: 1.1217 - accuracy: 0.6063\n",
            "Epoch 3/100\n",
            "1563/1563 [==============================] - 9s 6ms/step - loss: 0.9933 - accuracy: 0.6521\n",
            "Epoch 4/100\n",
            "1563/1563 [==============================] - 9s 6ms/step - loss: 0.9112 - accuracy: 0.6832\n",
            "Epoch 5/100\n",
            "1563/1563 [==============================] - 9s 6ms/step - loss: 0.8512 - accuracy: 0.7052\n",
            "Epoch 6/100\n",
            "1563/1563 [==============================] - 9s 6ms/step - loss: 0.7978 - accuracy: 0.7226\n",
            "Epoch 7/100\n",
            "1563/1563 [==============================] - 9s 6ms/step - loss: 0.7486 - accuracy: 0.7390\n",
            "Epoch 8/100\n",
            "1563/1563 [==============================] - 9s 6ms/step - loss: 0.7079 - accuracy: 0.7535\n",
            "Epoch 9/100\n",
            "1563/1563 [==============================] - 9s 6ms/step - loss: 0.6719 - accuracy: 0.7662\n",
            "Epoch 10/100\n",
            "1563/1563 [==============================] - 9s 6ms/step - loss: 0.6374 - accuracy: 0.7777\n",
            "Epoch 11/100\n",
            "1563/1563 [==============================] - 9s 6ms/step - loss: 0.6030 - accuracy: 0.7876\n",
            "Epoch 12/100\n",
            "1563/1563 [==============================] - 9s 5ms/step - loss: 0.5776 - accuracy: 0.7966\n",
            "Epoch 13/100\n",
            "1563/1563 [==============================] - 9s 6ms/step - loss: 0.5471 - accuracy: 0.8082\n",
            "Epoch 14/100\n",
            "1563/1563 [==============================] - 9s 5ms/step - loss: 0.5177 - accuracy: 0.8178\n",
            "Epoch 15/100\n",
            "1563/1563 [==============================] - 9s 6ms/step - loss: 0.4930 - accuracy: 0.8260\n",
            "Epoch 16/100\n",
            "1563/1563 [==============================] - 9s 6ms/step - loss: 0.4719 - accuracy: 0.8323\n",
            "Epoch 17/100\n",
            "1563/1563 [==============================] - 9s 6ms/step - loss: 0.4497 - accuracy: 0.8414\n",
            "Epoch 18/100\n",
            "1563/1563 [==============================] - 9s 6ms/step - loss: 0.4297 - accuracy: 0.8464\n",
            "Epoch 19/100\n",
            "1563/1563 [==============================] - 9s 6ms/step - loss: 0.4080 - accuracy: 0.8539\n",
            "Epoch 20/100\n",
            "1563/1563 [==============================] - 9s 6ms/step - loss: 0.3932 - accuracy: 0.8602\n",
            "Epoch 21/100\n",
            "1563/1563 [==============================] - 9s 6ms/step - loss: 0.3712 - accuracy: 0.8689\n",
            "Epoch 22/100\n",
            "1563/1563 [==============================] - 9s 6ms/step - loss: 0.3514 - accuracy: 0.8739\n",
            "Epoch 23/100\n",
            "1563/1563 [==============================] - 9s 6ms/step - loss: 0.3326 - accuracy: 0.8809\n",
            "Epoch 24/100\n",
            "1563/1563 [==============================] - 9s 6ms/step - loss: 0.3182 - accuracy: 0.8853\n",
            "Epoch 25/100\n",
            "1563/1563 [==============================] - 9s 6ms/step - loss: 0.3066 - accuracy: 0.8874\n",
            "Epoch 26/100\n",
            "1563/1563 [==============================] - 9s 6ms/step - loss: 0.2940 - accuracy: 0.8936\n",
            "Epoch 27/100\n",
            "1563/1563 [==============================] - 9s 6ms/step - loss: 0.2778 - accuracy: 0.9006\n",
            "Epoch 28/100\n",
            "1563/1563 [==============================] - 9s 6ms/step - loss: 0.2658 - accuracy: 0.9035\n",
            "Epoch 29/100\n",
            "1563/1563 [==============================] - 9s 6ms/step - loss: 0.2535 - accuracy: 0.9093\n",
            "Epoch 30/100\n",
            "1563/1563 [==============================] - 9s 6ms/step - loss: 0.2404 - accuracy: 0.9125\n",
            "Epoch 31/100\n",
            "1563/1563 [==============================] - 9s 6ms/step - loss: 0.2317 - accuracy: 0.9158\n",
            "Epoch 32/100\n",
            "1563/1563 [==============================] - 9s 6ms/step - loss: 0.2223 - accuracy: 0.9195\n",
            "Epoch 33/100\n",
            "1563/1563 [==============================] - 9s 6ms/step - loss: 0.2098 - accuracy: 0.9241\n",
            "Epoch 34/100\n",
            "1563/1563 [==============================] - 9s 6ms/step - loss: 0.2017 - accuracy: 0.9276\n",
            "Epoch 35/100\n",
            "1563/1563 [==============================] - 9s 6ms/step - loss: 0.1941 - accuracy: 0.9292\n",
            "Epoch 36/100\n",
            "1563/1563 [==============================] - 9s 6ms/step - loss: 0.1887 - accuracy: 0.9305\n",
            "Epoch 37/100\n",
            "1563/1563 [==============================] - 9s 6ms/step - loss: 0.1819 - accuracy: 0.9344\n",
            "Epoch 38/100\n",
            "1563/1563 [==============================] - 9s 6ms/step - loss: 0.1739 - accuracy: 0.9366\n",
            "Epoch 39/100\n",
            "1563/1563 [==============================] - 9s 6ms/step - loss: 0.1630 - accuracy: 0.9397\n",
            "Epoch 40/100\n",
            "1563/1563 [==============================] - 9s 6ms/step - loss: 0.1632 - accuracy: 0.9403\n",
            "Epoch 41/100\n",
            "1563/1563 [==============================] - 9s 6ms/step - loss: 0.1579 - accuracy: 0.9425\n",
            "Epoch 42/100\n",
            "1563/1563 [==============================] - 9s 6ms/step - loss: 0.1547 - accuracy: 0.9443\n",
            "Epoch 43/100\n",
            "1563/1563 [==============================] - 9s 6ms/step - loss: 0.1515 - accuracy: 0.9445\n",
            "Epoch 44/100\n",
            "1563/1563 [==============================] - 9s 6ms/step - loss: 0.1350 - accuracy: 0.9504\n",
            "Epoch 45/100\n",
            "1563/1563 [==============================] - 9s 6ms/step - loss: 0.1464 - accuracy: 0.9478\n",
            "Epoch 46/100\n",
            "1563/1563 [==============================] - 9s 6ms/step - loss: 0.1401 - accuracy: 0.9491\n",
            "Epoch 47/100\n",
            "1563/1563 [==============================] - 9s 6ms/step - loss: 0.1312 - accuracy: 0.9514\n",
            "Epoch 48/100\n",
            "1563/1563 [==============================] - 9s 6ms/step - loss: 0.1319 - accuracy: 0.9515\n",
            "Epoch 49/100\n",
            "1563/1563 [==============================] - 9s 6ms/step - loss: 0.1278 - accuracy: 0.9536\n",
            "Epoch 50/100\n",
            "1563/1563 [==============================] - 9s 6ms/step - loss: 0.1208 - accuracy: 0.9568\n",
            "Epoch 51/100\n",
            "1563/1563 [==============================] - 9s 6ms/step - loss: 0.1201 - accuracy: 0.9561\n",
            "Epoch 52/100\n",
            "1563/1563 [==============================] - 9s 6ms/step - loss: 0.1238 - accuracy: 0.9562\n",
            "Epoch 53/100\n",
            "1563/1563 [==============================] - 9s 6ms/step - loss: 0.1178 - accuracy: 0.9570\n",
            "Epoch 54/100\n",
            "1563/1563 [==============================] - 9s 6ms/step - loss: 0.1145 - accuracy: 0.9590\n",
            "Epoch 55/100\n",
            "1563/1563 [==============================] - 9s 6ms/step - loss: 0.1115 - accuracy: 0.9603\n",
            "Epoch 56/100\n",
            "1563/1563 [==============================] - 9s 6ms/step - loss: 0.1103 - accuracy: 0.9606\n",
            "Epoch 57/100\n",
            "1563/1563 [==============================] - 9s 6ms/step - loss: 0.1081 - accuracy: 0.9619\n",
            "Epoch 58/100\n",
            "1563/1563 [==============================] - 9s 6ms/step - loss: 0.1063 - accuracy: 0.9628\n",
            "Epoch 59/100\n",
            "1563/1563 [==============================] - 9s 6ms/step - loss: 0.1094 - accuracy: 0.9609\n",
            "Epoch 60/100\n",
            "1563/1563 [==============================] - 9s 6ms/step - loss: 0.1029 - accuracy: 0.9631\n",
            "Epoch 61/100\n",
            "1563/1563 [==============================] - 9s 6ms/step - loss: 0.1094 - accuracy: 0.9613\n",
            "Epoch 62/100\n",
            "1563/1563 [==============================] - 9s 6ms/step - loss: 0.1061 - accuracy: 0.9628\n",
            "Epoch 63/100\n",
            "1563/1563 [==============================] - 9s 6ms/step - loss: 0.0997 - accuracy: 0.9646\n",
            "Epoch 64/100\n",
            "1563/1563 [==============================] - 9s 6ms/step - loss: 0.1020 - accuracy: 0.9645\n",
            "Epoch 65/100\n",
            "1563/1563 [==============================] - 9s 6ms/step - loss: 0.0851 - accuracy: 0.9699\n",
            "Epoch 66/100\n",
            "1563/1563 [==============================] - 9s 6ms/step - loss: 0.1020 - accuracy: 0.9648\n",
            "Epoch 67/100\n",
            "1563/1563 [==============================] - 9s 6ms/step - loss: 0.0966 - accuracy: 0.9657\n",
            "Epoch 68/100\n",
            "1563/1563 [==============================] - 9s 6ms/step - loss: 0.0838 - accuracy: 0.9703\n",
            "Epoch 69/100\n",
            "1563/1563 [==============================] - 9s 6ms/step - loss: 0.0899 - accuracy: 0.9692\n",
            "Epoch 70/100\n",
            "1563/1563 [==============================] - 9s 6ms/step - loss: 0.0987 - accuracy: 0.9665\n",
            "Epoch 71/100\n",
            "1563/1563 [==============================] - 9s 6ms/step - loss: 0.0861 - accuracy: 0.9692\n",
            "Epoch 72/100\n",
            "1563/1563 [==============================] - 9s 6ms/step - loss: 0.0899 - accuracy: 0.9695\n",
            "Epoch 73/100\n",
            "1563/1563 [==============================] - 9s 6ms/step - loss: 0.0855 - accuracy: 0.9700\n",
            "Epoch 74/100\n",
            "1563/1563 [==============================] - 9s 6ms/step - loss: 0.0882 - accuracy: 0.9694\n",
            "Epoch 75/100\n",
            "1563/1563 [==============================] - 9s 6ms/step - loss: 0.0880 - accuracy: 0.9694\n",
            "Epoch 76/100\n",
            "1563/1563 [==============================] - 9s 6ms/step - loss: 0.0911 - accuracy: 0.9701\n",
            "Epoch 77/100\n",
            "1563/1563 [==============================] - 9s 6ms/step - loss: 0.0868 - accuracy: 0.9708\n",
            "Epoch 78/100\n",
            "1563/1563 [==============================] - 9s 6ms/step - loss: 0.0863 - accuracy: 0.9704\n",
            "Epoch 79/100\n",
            "1563/1563 [==============================] - 9s 6ms/step - loss: 0.0897 - accuracy: 0.9691\n",
            "Epoch 80/100\n",
            "1563/1563 [==============================] - 9s 6ms/step - loss: 0.0822 - accuracy: 0.9726\n",
            "Epoch 81/100\n",
            "1563/1563 [==============================] - 9s 6ms/step - loss: 0.0785 - accuracy: 0.9729\n",
            "Epoch 82/100\n",
            "1563/1563 [==============================] - 9s 6ms/step - loss: 0.0822 - accuracy: 0.9717\n",
            "Epoch 83/100\n",
            "1563/1563 [==============================] - 9s 6ms/step - loss: 0.0878 - accuracy: 0.9710\n",
            "Epoch 84/100\n",
            "1563/1563 [==============================] - 9s 6ms/step - loss: 0.0735 - accuracy: 0.9753\n",
            "Epoch 85/100\n",
            "1563/1563 [==============================] - 9s 6ms/step - loss: 0.0761 - accuracy: 0.9746\n",
            "Epoch 86/100\n",
            "1563/1563 [==============================] - 9s 6ms/step - loss: 0.0858 - accuracy: 0.9719\n",
            "Epoch 87/100\n",
            "1563/1563 [==============================] - 9s 6ms/step - loss: 0.0773 - accuracy: 0.9741\n",
            "Epoch 88/100\n",
            "1563/1563 [==============================] - 9s 6ms/step - loss: 0.0729 - accuracy: 0.9753\n",
            "Epoch 89/100\n",
            "1563/1563 [==============================] - 9s 6ms/step - loss: 0.0768 - accuracy: 0.9742\n",
            "Epoch 90/100\n",
            "1563/1563 [==============================] - 9s 6ms/step - loss: 0.0797 - accuracy: 0.9743\n",
            "Epoch 91/100\n",
            "1563/1563 [==============================] - 9s 6ms/step - loss: 0.0734 - accuracy: 0.9751\n",
            "Epoch 92/100\n",
            "1563/1563 [==============================] - 9s 6ms/step - loss: 0.0773 - accuracy: 0.9740\n",
            "Epoch 93/100\n",
            "1563/1563 [==============================] - 9s 6ms/step - loss: 0.0709 - accuracy: 0.9759\n",
            "Epoch 94/100\n",
            "1563/1563 [==============================] - 9s 6ms/step - loss: 0.0735 - accuracy: 0.9757\n",
            "Epoch 95/100\n",
            "1563/1563 [==============================] - 9s 6ms/step - loss: 0.0809 - accuracy: 0.9734\n",
            "Epoch 96/100\n",
            "1563/1563 [==============================] - 9s 6ms/step - loss: 0.0732 - accuracy: 0.9761\n",
            "Epoch 97/100\n",
            "1563/1563 [==============================] - 9s 6ms/step - loss: 0.0699 - accuracy: 0.9763\n",
            "Epoch 98/100\n",
            "1563/1563 [==============================] - 9s 6ms/step - loss: 0.0744 - accuracy: 0.9756\n",
            "Epoch 99/100\n",
            "1563/1563 [==============================] - 9s 6ms/step - loss: 0.0667 - accuracy: 0.9771\n",
            "Epoch 100/100\n",
            "1563/1563 [==============================] - 9s 6ms/step - loss: 0.0805 - accuracy: 0.9737\n"
          ],
          "name": "stdout"
        },
        {
          "output_type": "execute_result",
          "data": {
            "text/plain": [
              "<tensorflow.python.keras.callbacks.History at 0x7f43a515f150>"
            ]
          },
          "metadata": {
            "tags": []
          },
          "execution_count": 13
        }
      ]
    },
    {
      "cell_type": "code",
      "metadata": {
        "colab": {
          "base_uri": "https://localhost:8080/"
        },
        "id": "yHPcubOLTZfJ",
        "outputId": "1b0d9d3e-2187-4c0f-e04c-6c7d350b53fe"
      },
      "source": [
        "cnn.evaluate(X_test,y_test)"
      ],
      "execution_count": 14,
      "outputs": [
        {
          "output_type": "stream",
          "text": [
            "313/313 [==============================] - 1s 4ms/step - loss: 4.3416 - accuracy: 0.6666\n"
          ],
          "name": "stdout"
        },
        {
          "output_type": "execute_result",
          "data": {
            "text/plain": [
              "[4.341618537902832, 0.6665999889373779]"
            ]
          },
          "metadata": {
            "tags": []
          },
          "execution_count": 14
        }
      ]
    },
    {
      "cell_type": "code",
      "metadata": {
        "colab": {
          "base_uri": "https://localhost:8080/"
        },
        "id": "C_TiUV2iYzK6",
        "outputId": "b73ac6f4-bc5b-40f5-ea89-2c1d3e0a3020"
      },
      "source": [
        "\n",
        "y_pred = cnn.predict(X_test)\n",
        "y_pred[:5]"
      ],
      "execution_count": 15,
      "outputs": [
        {
          "output_type": "execute_result",
          "data": {
            "text/plain": [
              "array([[5.23521444e-28, 1.98673941e-26, 3.91005219e-25, 9.99999881e-01,\n",
              "        6.78247787e-08, 5.47144197e-09, 7.45375983e-11, 0.00000000e+00,\n",
              "        2.54352372e-25, 1.60115279e-34],\n",
              "       [6.94582572e-30, 5.93004075e-19, 0.00000000e+00, 0.00000000e+00,\n",
              "        0.00000000e+00, 0.00000000e+00, 0.00000000e+00, 0.00000000e+00,\n",
              "        1.00000000e+00, 1.89425225e-23],\n",
              "       [8.92898560e-01, 3.27891513e-07, 5.89283342e-13, 4.13325741e-16,\n",
              "        4.60301068e-13, 1.26601323e-12, 6.67069724e-20, 9.66025177e-11,\n",
              "        1.07099555e-01, 1.57656063e-06],\n",
              "       [1.00000000e+00, 1.78846105e-31, 6.80139281e-19, 5.34792978e-20,\n",
              "        7.46446832e-16, 4.59561118e-28, 1.06799352e-28, 9.03388416e-35,\n",
              "        2.69298256e-13, 1.48870983e-25],\n",
              "       [2.54433519e-18, 1.13143341e-28, 3.72422190e-04, 6.49790920e-04,\n",
              "        2.80991178e-02, 7.08537526e-12, 9.70878661e-01, 2.09277036e-32,\n",
              "        6.73798910e-18, 2.62337987e-25]], dtype=float32)"
            ]
          },
          "metadata": {
            "tags": []
          },
          "execution_count": 15
        }
      ]
    },
    {
      "cell_type": "code",
      "metadata": {
        "colab": {
          "base_uri": "https://localhost:8080/"
        },
        "id": "8Ah2DE4aY6Z7",
        "outputId": "3ca17b1d-64dc-4a7a-8711-feb4815f1292"
      },
      "source": [
        "y_classes = [np.argmax(element) for element in y_pred]\n",
        "y_classes[:5]"
      ],
      "execution_count": 16,
      "outputs": [
        {
          "output_type": "execute_result",
          "data": {
            "text/plain": [
              "[3, 8, 0, 0, 6]"
            ]
          },
          "metadata": {
            "tags": []
          },
          "execution_count": 16
        }
      ]
    },
    {
      "cell_type": "code",
      "metadata": {
        "colab": {
          "base_uri": "https://localhost:8080/"
        },
        "id": "pq6OJ-sQY-99",
        "outputId": "4baf121b-fd31-4ac4-ebd4-e60839349b4d"
      },
      "source": [
        "y_test[:5]\n"
      ],
      "execution_count": 17,
      "outputs": [
        {
          "output_type": "execute_result",
          "data": {
            "text/plain": [
              "array([3, 8, 8, 0, 6], dtype=uint8)"
            ]
          },
          "metadata": {
            "tags": []
          },
          "execution_count": 17
        }
      ]
    },
    {
      "cell_type": "code",
      "metadata": {
        "colab": {
          "base_uri": "https://localhost:8080/",
          "height": 173
        },
        "id": "pTDvjCSrZA_q",
        "outputId": "0b557746-baf7-4cd2-db05-7f716cc9ff1a"
      },
      "source": [
        "plot_sample(X_test, y_test,3)"
      ],
      "execution_count": 18,
      "outputs": [
        {
          "output_type": "display_data",
          "data": {
            "image/png": "[encoded data removed]",
            "text/plain": [
              "<Figure size 1080x144 with 1 Axes>"
            ]
          },
          "metadata": {
            "tags": [],
            "needs_background": "light"
          }
        }
      ]
    },
    {
      "cell_type": "code",
      "metadata": {
        "colab": {
          "base_uri": "https://localhost:8080/",
          "height": 35
        },
        "id": "wF_y8dMoZDm8",
        "outputId": "b4f2f69d-5ad9-40e7-9434-675759e0549b"
      },
      "source": [
        "classes[y_classes[3]]"
      ],
      "execution_count": 19,
      "outputs": [
        {
          "output_type": "execute_result",
          "data": {
            "application/vnd.google.colaboratory.intrinsic+json": {
              "type": "string"
            },
            "text/plain": [
              "'airplane'"
            ]
          },
          "metadata": {
            "tags": []
          },
          "execution_count": 19
        }
      ]
    },
    {
      "cell_type": "code",
      "metadata": {
        "colab": {
          "base_uri": "https://localhost:8080/"
        },
        "id": "zm0MPr9iZGaC",
        "outputId": "34c20683-6520-4ff1-b953-0af42d456454"
      },
      "source": [
        "classes"
      ],
      "execution_count": 20,
      "outputs": [
        {
          "output_type": "execute_result",
          "data": {
            "text/plain": [
              "['airplane',\n",
              " 'automobile',\n",
              " 'bird',\n",
              " 'cat',\n",
              " 'deer',\n",
              " 'dog',\n",
              " 'frog',\n",
              " 'horse',\n",
              " 'ship',\n",
              " 'truck']"
            ]
          },
          "metadata": {
            "tags": []
          },
          "execution_count": 20
        }
      ]
    },
    {
      "cell_type": "code",
      "metadata": {
        "id": "5Q4w0rY5ZH97"
      },
      "source": [
        "\n"
      ],
      "execution_count": null,
      "outputs": []
    }
  ]
}